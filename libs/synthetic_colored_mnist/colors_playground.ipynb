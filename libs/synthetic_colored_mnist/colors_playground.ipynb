{
 "cells": [
  {
   "cell_type": "code",
   "execution_count": 1,
   "metadata": {},
   "outputs": [
    {
     "name": "stderr",
     "output_type": "stream",
     "text": [
      "/hdd2/dyah/anaconda3/envs/causal/lib/python3.7/site-packages/tqdm/auto.py:22: TqdmWarning: IProgress not found. Please update jupyter and ipywidgets. See https://ipywidgets.readthedocs.io/en/stable/user_install.html\n",
      "  from .autonotebook import tqdm as notebook_tqdm\n"
     ]
    },
    {
     "name": "stdout",
     "output_type": "stream",
     "text": [
      "Compose(\n",
      "    Grayscale(num_output_channels=3)\n",
      "    ToTensor()\n",
      "    Normalize(mean=[0.5], std=[0.5])\n",
      ")\n",
      "==============================\n",
      "Train data set: 54000\n",
      "Test data set: 10000\n",
      "Valid data set: 6000\n",
      "538\n"
     ]
    }
   ],
   "source": [
    "from utils import *\n",
    "from mnist_tasks.mnist_loader import valid_set\n",
    "from torch.utils.data import DataLoader, random_split"
   ]
  },
  {
   "cell_type": "code",
   "execution_count": 2,
   "metadata": {},
   "outputs": [],
   "source": [
    "digits_to_store = [0,1]\n",
    "spurious_p = 0.225\n",
    "random_p = 1 - spurious_p\n",
    "\n",
    "batch_size = 1280\n",
    "\n",
    "store_dir = \"/hdd2/dyah/coloredmnist_synthetic_spurious\"\n",
    "if not os.path.isdir(store_dir):\n",
    "    os.makedirs(store_dir)"
   ]
  },
  {
   "cell_type": "code",
   "execution_count": 11,
   "metadata": {},
   "outputs": [
    {
     "name": "stdout",
     "output_type": "stream",
     "text": [
      "random colors ['blue', 'teal', 'orange', 'green', 'gray']\n",
      "spurious colors background ['brown', 'violet']\n"
     ]
    }
   ],
   "source": [
    "# define the spurious environment\n",
    "spurious_env_b, spurious_colors_b = random_generator[\"background\"](digits_to_store, return_keys=True)\n",
    "flip_map = generate_random_flip_map()\n",
    "spurious_env_b_flip = flip_digit_color(flip_map, spurious_env_b)\n",
    "\n",
    "spurious_env_d, spurious_colors_d = random_generator[\"digit\"](digits_to_store, return_keys=True, forbidden_colors=spurious_colors_b)\n",
    "spurious_env_d_flip = flip_digit_color(flip_map, spurious_env_d)\n",
    "\n",
    "forbidden_colors = [c_ for c_ in spurious_colors_b]\n",
    "forbidden_colors.extend(spurious_colors_d)\n",
    "# print(forbidden_colors)\n",
    "random_color_keys = generate_uncorrelated_color_keys(n=5, forbidden_colors=forbidden_colors)\n",
    "print(\"random colors\", random_color_keys)\n",
    "print(\"spurious colors background\", spurious_colors_b)"
   ]
  },
  {
   "cell_type": "code",
   "execution_count": 12,
   "metadata": {},
   "outputs": [],
   "source": [
    "# divide train and valid sets into 90-10 splits: 90 random color, 10 spurious color that will be flipped in test\n",
    "# flip the 10% color for test set\n",
    "val_rnd_size, val_spur_size = int(len(valid_set) * random_p), int(len(valid_set) * spurious_p)\n",
    "val_rnd_set, val_spur_set = random_split(valid_set, [val_rnd_size, val_spur_size])\n",
    "val_rnd_loader = DataLoader(val_rnd_set, batch_size=batch_size, shuffle=False)\n",
    "val_spur_loader = DataLoader(val_spur_set, batch_size=batch_size, shuffle=False)"
   ]
  },
  {
   "cell_type": "code",
   "execution_count": 13,
   "metadata": {},
   "outputs": [
    {
     "name": "stderr",
     "output_type": "stream",
     "text": [
      "0it [00:00, ?it/s]/hdd2/dyah/sicheng_test/comnivore/libs/synthetic_colored_mnist/utils.py:62: UserWarning: indexing with dtype torch.uint8 is now deprecated, please use a dtype torch.bool instead. (Triggered internally at  /pytorch/aten/src/ATen/native/IndexingUtils.h:25.)\n",
      "  imgs = imgs[mask,:,:,:]\n",
      "/hdd2/dyah/sicheng_test/comnivore/libs/synthetic_colored_mnist/utils.py:63: UserWarning: indexing with dtype torch.uint8 is now deprecated, please use a dtype torch.bool instead. (Triggered internally at  /pytorch/aten/src/ATen/native/IndexingUtils.h:25.)\n",
      "  labels = labels[mask]\n",
      "4it [00:21,  5.37s/it]\n"
     ]
    },
    {
     "data": {
      "image/png": "[encoded data removed]",
      "text/plain": [
       "<Figure size 640x480 with 9 Axes>"
      ]
     },
     "metadata": {},
     "output_type": "display_data"
    }
   ],
   "source": [
    "val_random_images, val_random_labels = transform_image_random(val_rnd_loader, possible_color_keys=random_color_keys, mode=\"full\")\n",
    "show_random_images(val_random_images)"
   ]
  },
  {
   "cell_type": "code",
   "execution_count": 14,
   "metadata": {},
   "outputs": [
    {
     "name": "stderr",
     "output_type": "stream",
     "text": [
      "0it [00:00, ?it/s]/hdd2/dyah/sicheng_test/comnivore/libs/synthetic_colored_mnist/utils.py:27: UserWarning: indexing with dtype torch.uint8 is now deprecated, please use a dtype torch.bool instead. (Triggered internally at  /pytorch/aten/src/ATen/native/IndexingUtils.h:25.)\n",
      "  imgs = imgs[mask,:,:,:]\n",
      "/hdd2/dyah/sicheng_test/comnivore/libs/synthetic_colored_mnist/utils.py:28: UserWarning: indexing with dtype torch.uint8 is now deprecated, please use a dtype torch.bool instead. (Triggered internally at  /pytorch/aten/src/ATen/native/IndexingUtils.h:25.)\n",
      "  labels = labels[mask]\n",
      "/hdd2/dyah/sicheng_test/comnivore/libs/synthetic_colored_mnist/mnist_tasks/generate_color_mnist.py:70: NumbaWarning: \n",
      "Compilation is falling back to object mode WITH looplifting enabled because Function \"transform_background_color\" failed type inference due to: non-precise type pyobject\n",
      "During: typing of argument at /hdd2/dyah/sicheng_test/comnivore/libs/synthetic_colored_mnist/mnist_tasks/generate_color_mnist.py (72)\n",
      "\n",
      "File \"mnist_tasks/generate_color_mnist.py\", line 72:\n",
      "def transform_background_color(imgs, labels, env):\n",
      "    for label in env:\n",
      "    ^\n",
      "\n",
      "  @numba.jit\n",
      "/hdd2/dyah/sicheng_test/comnivore/libs/synthetic_colored_mnist/mnist_tasks/generate_color_mnist.py:70: NumbaWarning: \n",
      "Compilation is falling back to object mode WITHOUT looplifting enabled because Function \"transform_background_color\" failed type inference due to: Cannot determine Numba type of <class 'numba.core.dispatcher.LiftedLoop'>\n",
      "\n",
      "File \"mnist_tasks/generate_color_mnist.py\", line 72:\n",
      "def transform_background_color(imgs, labels, env):\n",
      "    for label in env:\n",
      "    ^\n",
      "\n",
      "  @numba.jit\n",
      "/hdd2/dyah/anaconda3/envs/causal/lib/python3.7/site-packages/numba/core/object_mode_passes.py:152: NumbaWarning: Function \"transform_background_color\" was compiled in object mode without forceobj=True, but has lifted loops.\n",
      "\n",
      "File \"mnist_tasks/generate_color_mnist.py\", line 72:\n",
      "def transform_background_color(imgs, labels, env):\n",
      "    for label in env:\n",
      "    ^\n",
      "\n",
      "  state.func_ir.loc))\n",
      "/hdd2/dyah/anaconda3/envs/causal/lib/python3.7/site-packages/numba/core/object_mode_passes.py:162: NumbaDeprecationWarning: \n",
      "Fall-back from the nopython compilation path to the object mode compilation path has been detected, this is deprecated behaviour.\n",
      "\n",
      "For more information visit https://numba.readthedocs.io/en/stable/reference/deprecation.html#deprecation-of-object-mode-fall-back-behaviour-when-using-jit\n",
      "\n",
      "File \"mnist_tasks/generate_color_mnist.py\", line 72:\n",
      "def transform_background_color(imgs, labels, env):\n",
      "    for label in env:\n",
      "    ^\n",
      "\n",
      "  state.func_ir.loc))\n",
      "/hdd2/dyah/sicheng_test/comnivore/libs/synthetic_colored_mnist/mnist_tasks/generate_color_mnist.py:70: NumbaWarning: \n",
      "Compilation is falling back to object mode WITHOUT looplifting enabled because Function \"transform_background_color\" failed type inference due to: non-precise type pyobject\n",
      "During: typing of argument at /hdd2/dyah/sicheng_test/comnivore/libs/synthetic_colored_mnist/mnist_tasks/generate_color_mnist.py (72)\n",
      "\n",
      "File \"mnist_tasks/generate_color_mnist.py\", line 72:\n",
      "def transform_background_color(imgs, labels, env):\n",
      "    for label in env:\n",
      "    ^\n",
      "\n",
      "  @numba.jit\n",
      "/hdd2/dyah/anaconda3/envs/causal/lib/python3.7/site-packages/numba/core/object_mode_passes.py:152: NumbaWarning: Function \"transform_background_color\" was compiled in object mode without forceobj=True.\n",
      "\n",
      "File \"mnist_tasks/generate_color_mnist.py\", line 72:\n",
      "def transform_background_color(imgs, labels, env):\n",
      "    for label in env:\n",
      "    ^\n",
      "\n",
      "  state.func_ir.loc))\n",
      "/hdd2/dyah/anaconda3/envs/causal/lib/python3.7/site-packages/numba/core/object_mode_passes.py:162: NumbaDeprecationWarning: \n",
      "Fall-back from the nopython compilation path to the object mode compilation path has been detected, this is deprecated behaviour.\n",
      "\n",
      "For more information visit https://numba.readthedocs.io/en/stable/reference/deprecation.html#deprecation-of-object-mode-fall-back-behaviour-when-using-jit\n",
      "\n",
      "File \"mnist_tasks/generate_color_mnist.py\", line 72:\n",
      "def transform_background_color(imgs, labels, env):\n",
      "    for label in env:\n",
      "    ^\n",
      "\n",
      "  state.func_ir.loc))\n",
      "/hdd2/dyah/sicheng_test/comnivore/libs/synthetic_colored_mnist/mnist_tasks/generate_color_mnist.py:90: NumbaWarning: \n",
      "Compilation is falling back to object mode WITH looplifting enabled because Function \"transform_digit_color\" failed type inference due to: non-precise type pyobject\n",
      "During: typing of argument at /hdd2/dyah/sicheng_test/comnivore/libs/synthetic_colored_mnist/mnist_tasks/generate_color_mnist.py (92)\n",
      "\n",
      "File \"mnist_tasks/generate_color_mnist.py\", line 92:\n",
      "def transform_digit_color(imgs, labels, env):\n",
      "    for label in env:\n",
      "    ^\n",
      "\n",
      "  @numba.jit\n",
      "/hdd2/dyah/sicheng_test/comnivore/libs/synthetic_colored_mnist/mnist_tasks/generate_color_mnist.py:90: NumbaWarning: \n",
      "Compilation is falling back to object mode WITHOUT looplifting enabled because Function \"transform_digit_color\" failed type inference due to: Cannot determine Numba type of <class 'numba.core.dispatcher.LiftedLoop'>\n",
      "\n",
      "File \"mnist_tasks/generate_color_mnist.py\", line 92:\n",
      "def transform_digit_color(imgs, labels, env):\n",
      "    for label in env:\n",
      "    ^\n",
      "\n",
      "  @numba.jit\n",
      "/hdd2/dyah/anaconda3/envs/causal/lib/python3.7/site-packages/numba/core/object_mode_passes.py:152: NumbaWarning: Function \"transform_digit_color\" was compiled in object mode without forceobj=True, but has lifted loops.\n",
      "\n",
      "File \"mnist_tasks/generate_color_mnist.py\", line 92:\n",
      "def transform_digit_color(imgs, labels, env):\n",
      "    for label in env:\n",
      "    ^\n",
      "\n",
      "  state.func_ir.loc))\n",
      "/hdd2/dyah/anaconda3/envs/causal/lib/python3.7/site-packages/numba/core/object_mode_passes.py:162: NumbaDeprecationWarning: \n",
      "Fall-back from the nopython compilation path to the object mode compilation path has been detected, this is deprecated behaviour.\n",
      "\n",
      "For more information visit https://numba.readthedocs.io/en/stable/reference/deprecation.html#deprecation-of-object-mode-fall-back-behaviour-when-using-jit\n",
      "\n",
      "File \"mnist_tasks/generate_color_mnist.py\", line 92:\n",
      "def transform_digit_color(imgs, labels, env):\n",
      "    for label in env:\n",
      "    ^\n",
      "\n",
      "  state.func_ir.loc))\n",
      "/hdd2/dyah/sicheng_test/comnivore/libs/synthetic_colored_mnist/mnist_tasks/generate_color_mnist.py:90: NumbaWarning: \n",
      "Compilation is falling back to object mode WITHOUT looplifting enabled because Function \"transform_digit_color\" failed type inference due to: non-precise type pyobject\n",
      "During: typing of argument at /hdd2/dyah/sicheng_test/comnivore/libs/synthetic_colored_mnist/mnist_tasks/generate_color_mnist.py (92)\n",
      "\n",
      "File \"mnist_tasks/generate_color_mnist.py\", line 92:\n",
      "def transform_digit_color(imgs, labels, env):\n",
      "    for label in env:\n",
      "    ^\n",
      "\n",
      "  @numba.jit\n",
      "/hdd2/dyah/anaconda3/envs/causal/lib/python3.7/site-packages/numba/core/object_mode_passes.py:152: NumbaWarning: Function \"transform_digit_color\" was compiled in object mode without forceobj=True.\n",
      "\n",
      "File \"mnist_tasks/generate_color_mnist.py\", line 92:\n",
      "def transform_digit_color(imgs, labels, env):\n",
      "    for label in env:\n",
      "    ^\n",
      "\n",
      "  state.func_ir.loc))\n",
      "/hdd2/dyah/anaconda3/envs/causal/lib/python3.7/site-packages/numba/core/object_mode_passes.py:162: NumbaDeprecationWarning: \n",
      "Fall-back from the nopython compilation path to the object mode compilation path has been detected, this is deprecated behaviour.\n",
      "\n",
      "For more information visit https://numba.readthedocs.io/en/stable/reference/deprecation.html#deprecation-of-object-mode-fall-back-behaviour-when-using-jit\n",
      "\n",
      "File \"mnist_tasks/generate_color_mnist.py\", line 92:\n",
      "def transform_digit_color(imgs, labels, env):\n",
      "    for label in env:\n",
      "    ^\n",
      "\n",
      "  state.func_ir.loc))\n",
      "1it [00:08,  8.42s/it]/hdd2/dyah/sicheng_test/comnivore/libs/synthetic_colored_mnist/utils.py:27: UserWarning: indexing with dtype torch.uint8 is now deprecated, please use a dtype torch.bool instead. (Triggered internally at  /pytorch/aten/src/ATen/native/IndexingUtils.h:25.)\n",
      "  imgs = imgs[mask,:,:,:]\n",
      "/hdd2/dyah/sicheng_test/comnivore/libs/synthetic_colored_mnist/utils.py:28: UserWarning: indexing with dtype torch.uint8 is now deprecated, please use a dtype torch.bool instead. (Triggered internally at  /pytorch/aten/src/ATen/native/IndexingUtils.h:25.)\n",
      "  labels = labels[mask]\n",
      "2it [00:08,  4.35s/it]\n"
     ]
    },
    {
     "data": {
      "image/png": "[encoded data removed]",
      "text/plain": [
       "<Figure size 640x480 with 9 Axes>"
      ]
     },
     "metadata": {},
     "output_type": "display_data"
    }
   ],
   "source": [
    "val_spur_images, val_spur_labels = transform_image_with_env([spurious_env_b, spurious_env_d], val_spur_loader, mode=\"full\")\n",
    "show_random_images(val_spur_images)"
   ]
  },
  {
   "cell_type": "code",
   "execution_count": null,
   "metadata": {},
   "outputs": [],
   "source": []
  },
  {
   "cell_type": "code",
   "execution_count": null,
   "metadata": {},
   "outputs": [],
   "source": []
  }
 ],
 "metadata": {
  "kernelspec": {
   "display_name": "causal",
   "language": "python",
   "name": "causal"
  },
  "language_info": {
   "codemirror_mode": {
    "name": "ipython",
    "version": 3
   },
   "file_extension": ".py",
   "mimetype": "text/x-python",
   "name": "python",
   "nbconvert_exporter": "python",
   "pygments_lexer": "ipython3",
   "version": "3.7.13"
  }
 },
 "nbformat": 4,
 "nbformat_minor": 2
}
