{
 "cells": [
  {
   "cell_type": "code",
   "execution_count": null,
   "metadata": {},
   "outputs": [],
   "source": [
    "from utils import *\n",
    "from mnist_tasks.mnist_loader import train_set, test_set, valid_set\n",
    "from torch.utils.data import DataLoader, random_split"
   ]
  },
  {
   "cell_type": "code",
   "execution_count": null,
   "metadata": {},
   "outputs": [],
   "source": [
    "digits_to_store = [0,1]\n",
    "MODE = \"background\"\n",
    "\n",
    "spurious_p = 0.225\n",
    "random_p = 1 - spurious_p\n",
    "\n",
    "batch_size = 1280\n",
    "\n",
    "store_dir = \"/hdd2/dyah/coloredmnist_synthetic_spurious\"\n",
    "if not os.path.isdir(store_dir):\n",
    "    os.makedirs(store_dir)"
   ]
  },
  {
   "cell_type": "code",
   "execution_count": null,
   "metadata": {},
   "outputs": [],
   "source": [
    "# define the spurious environment\n",
    "spurious_env = random_generator[MODE](digits_to_store)\n",
    "flip_map = generate_random_flip_map()\n",
    "spurious_env_flip = flip_digit_color(flip_map, spurious_env)\n",
    "random_color_keys = generate_uncorrelated_color_keys()\n",
    "random_color_keys"
   ]
  },
  {
   "cell_type": "code",
   "execution_count": null,
   "metadata": {},
   "outputs": [],
   "source": [
    "# divide train and valid sets into 90-10 splits: 90 random color, 10 spurious color that will be flipped in test\n",
    "# flip the 10% color for test set\n",
    "train_rnd_size, train_spur_size = int(len(train_set) * random_p), int(len(train_set) * spurious_p)\n",
    "val_rnd_size, val_spur_size = int(len(valid_set) * random_p), int(len(valid_set) * spurious_p)\n",
    "\n",
    "train_rnd_set, train_spur_set = random_split(train_set, [train_rnd_size, train_spur_size])\n",
    "val_rnd_set, val_spur_set = random_split(valid_set, [val_rnd_size, val_spur_size])\n",
    "\n",
    "train_rnd_loader = DataLoader(train_rnd_set, batch_size=batch_size, shuffle=False)\n",
    "train_spur_loader = DataLoader(train_spur_set, batch_size=batch_size, shuffle=False)\n",
    "\n",
    "val_rnd_loader = DataLoader(val_rnd_set, batch_size=batch_size, shuffle=False)\n",
    "val_spur_loader = DataLoader(val_spur_set, batch_size=batch_size, shuffle=False)"
   ]
  },
  {
   "cell_type": "code",
   "execution_count": null,
   "metadata": {},
   "outputs": [],
   "source": [
    "train_random_images, train_random_labels = transform_image_random(train_rnd_loader, possible_color_keys=random_color_keys)\n",
    "show_random_images(train_random_images)"
   ]
  },
  {
   "cell_type": "code",
   "execution_count": null,
   "metadata": {},
   "outputs": [],
   "source": [
    "train_spur_images, train_spur_labels = transform_image_with_env(spurious_env, train_spur_loader)\n",
    "show_random_images(train_spur_images)"
   ]
  },
  {
   "cell_type": "code",
   "execution_count": null,
   "metadata": {},
   "outputs": [],
   "source": [
    "train_metadata_rnd = save_images_and_get_metadata(train_random_images, train_random_labels, \n",
    "                                              \"train_random\", save_dir=os.path.join(store_dir, \"train\"))\n",
    "train_metadata_rnd['split'] = [0 for i in range(len(train_metadata_rnd['label']))]\n",
    "train_metadata_rnd['random'] = [1 for i in range(len(train_metadata_rnd['label']))]"
   ]
  },
  {
   "cell_type": "code",
   "execution_count": null,
   "metadata": {},
   "outputs": [],
   "source": [
    "train_metadata_spur = save_images_and_get_metadata(train_spur_images, train_spur_labels, \n",
    "                                              \"train_spurious\", \n",
    "                                                   save_dir=os.path.join(store_dir, \"train\"))\n",
    "train_metadata_spur['split'] = [0 for i in range(len(train_metadata_spur['label']))]\n",
    "train_metadata_spur['random'] = [0 for i in range(len(train_metadata_spur['label']))]"
   ]
  },
  {
   "cell_type": "code",
   "execution_count": null,
   "metadata": {},
   "outputs": [],
   "source": [
    "val_random_images, val_random_labels = transform_image_random(val_rnd_loader)\n",
    "val_metadata_rnd = save_images_and_get_metadata(val_random_images, val_random_labels, \n",
    "                                              \"val_random\", save_dir=os.path.join(store_dir, \"val\"))\n",
    "val_metadata_rnd['split'] = [2 for i in range(len(val_metadata_rnd['label']))]\n",
    "val_metadata_rnd['random'] = [1 for i in range(len(val_metadata_rnd['label']))]\n",
    "\n",
    "val_spur_images, val_spur_labels = transform_image_with_env(spurious_env, val_spur_loader)\n",
    "val_metadata_spur = save_images_and_get_metadata(val_spur_images, val_spur_labels, \n",
    "                                              \"val_spurious\", save_dir=os.path.join(store_dir, \"val\"))\n",
    "val_metadata_spur['split'] = [2 for i in range(len(val_metadata_spur['label']))]\n",
    "val_metadata_spur['random'] = [0 for i in range(len(val_metadata_spur['label']))]"
   ]
  },
  {
   "cell_type": "code",
   "execution_count": null,
   "metadata": {},
   "outputs": [],
   "source": [
    "spurious_p_test = 0.7\n",
    "random_p_test = 1 - spurious_p_test"
   ]
  },
  {
   "cell_type": "code",
   "execution_count": null,
   "metadata": {},
   "outputs": [],
   "source": [
    "test_rnd_size, test_spur_size = int(len(test_set) * random_p_test), int(len(test_set) * spurious_p_test)"
   ]
  },
  {
   "cell_type": "code",
   "execution_count": null,
   "metadata": {},
   "outputs": [],
   "source": [
    "test_rnd_set, test_spur_set = random_split(test_set, [test_rnd_size, test_spur_size])"
   ]
  },
  {
   "cell_type": "code",
   "execution_count": null,
   "metadata": {},
   "outputs": [],
   "source": [
    "test_rnd_loader = DataLoader(test_rnd_set, batch_size=batch_size, shuffle=False)\n",
    "test_spur_loader = DataLoader(test_spur_set, batch_size=batch_size, shuffle=False)"
   ]
  },
  {
   "cell_type": "code",
   "execution_count": null,
   "metadata": {},
   "outputs": [],
   "source": [
    "test_random_images, test_random_labels = transform_image_random(test_rnd_loader)"
   ]
  },
  {
   "cell_type": "code",
   "execution_count": null,
   "metadata": {},
   "outputs": [],
   "source": [
    "test_metadata_rnd = save_images_and_get_metadata(test_random_images, test_random_labels, \n",
    "                                              \"test_random\", save_dir=os.path.join(store_dir, \"test\"))\n",
    "test_metadata_rnd['split'] = [1 for i in range(len(test_metadata_rnd['label']))]\n",
    "test_metadata_rnd['random'] = [1 for i in range(len(test_metadata_rnd['label']))]"
   ]
  },
  {
   "cell_type": "code",
   "execution_count": null,
   "metadata": {},
   "outputs": [],
   "source": [
    "test_spur_images, test_spur_labels = transform_image_with_env(spurious_env_flip, test_spur_loader)"
   ]
  },
  {
   "cell_type": "code",
   "execution_count": null,
   "metadata": {},
   "outputs": [],
   "source": [
    "test_metadata_spur = save_images_and_get_metadata(test_spur_images, test_spur_labels, \n",
    "                                              \"test_spurious\",save_dir=os.path.join(store_dir, \"test\"))\n",
    "test_metadata_spur['split'] = [1 for i in range(len(test_metadata_spur['label']))]\n",
    "test_metadata_spur['random'] = [0 for i in range(len(test_metadata_spur['label']))]"
   ]
  },
  {
   "cell_type": "code",
   "execution_count": null,
   "metadata": {},
   "outputs": [],
   "source": [
    "def merge_metadata(metadata_list):\n",
    "    for i, metadata in enumerate(metadata_list):\n",
    "        if i == 0:\n",
    "            image_path = [path for path in metadata['image_path']]\n",
    "            labels = [label for label in metadata['label']]\n",
    "            splits = [split for split in metadata['split']]\n",
    "            random = [rnd for rnd in metadata['random']]\n",
    "        else:\n",
    "            image_path.extend([path for path in metadata['image_path']])\n",
    "            labels.extend([label for label in metadata['label']])\n",
    "            splits.extend([split for split in metadata['split']])\n",
    "            random.extend([rnd for rnd in metadata['random']])\n",
    "    metadata_all = {'image_path': image_path}\n",
    "    metadata_all['label'] = labels\n",
    "    metadata_all['split'] = splits\n",
    "    metadata_all['random'] = random\n",
    "    return metadata_all"
   ]
  },
  {
   "cell_type": "code",
   "execution_count": null,
   "metadata": {},
   "outputs": [],
   "source": [
    "metadata_all = merge_metadata([train_metadata_rnd, train_metadata_spur, \n",
    "                              val_metadata_rnd, val_metadata_spur,\n",
    "                              test_metadata_rnd, test_metadata_spur])"
   ]
  },
  {
   "cell_type": "code",
   "execution_count": null,
   "metadata": {},
   "outputs": [],
   "source": [
    "store_metadata(metadata_all, save_dir=store_dir)"
   ]
  },
  {
   "cell_type": "code",
   "execution_count": null,
   "metadata": {},
   "outputs": [],
   "source": []
  }
 ],
 "metadata": {
  "kernelspec": {
   "display_name": "causal",
   "language": "python",
   "name": "causal"
  },
  "language_info": {
   "codemirror_mode": {
    "name": "ipython",
    "version": 3
   },
   "file_extension": ".py",
   "mimetype": "text/x-python",
   "name": "python",
   "nbconvert_exporter": "python",
   "pygments_lexer": "ipython3",
   "version": "3.7.13"
  }
 },
 "nbformat": 4,
 "nbformat_minor": 2
}
