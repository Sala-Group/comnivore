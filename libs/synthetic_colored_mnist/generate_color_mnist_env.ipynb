{
 "cells": [
  {
   "cell_type": "code",
   "execution_count": 1,
   "metadata": {},
   "outputs": [
    {
     "name": "stdout",
     "output_type": "stream",
     "text": [
      "Compose(\n",
      "    Grayscale(num_output_channels=3)\n",
      "    ToTensor()\n",
      "    Normalize(mean=[0.5], std=[0.5])\n",
      ")\n",
      "==============================\n",
      "Train data set: 54000\n",
      "Test data set: 10000\n",
      "Valid data set: 6000\n"
     ]
    }
   ],
   "source": [
    "import numpy as np\n",
    "from mnist_tasks.generate_color_mnist import *\n",
    "from mnist_tasks.mnist_loader import trainloader, testloader, valloader\n",
    "import matplotlib.pyplot as plt\n",
    "from tqdm import tqdm\n",
    "import torchvision.transforms as T\n",
    "import os\n",
    "import pandas as pd\n",
    "    \n",
    "transform = {\n",
    "    \"background\": transform_digit_color,\n",
    "    \"full\": transform_image\n",
    "}\n",
    "random_generator = {\n",
    "    \"background\": generate_random_digit_color,\n",
    "    \"full\": generate_random_environment\n",
    "}\n",
    "#change the const below to change generator\n",
    "MODE = \"background\"\n",
    "\n",
    "#digits to store\n",
    "digits_to_store = [0, 1]\n",
    "\n",
    "store_dir = \"/hdd2/dyah/coloredmnist_synthetic\"\n",
    "if not os.path.isdir(store_dir):\n",
    "    os.makedirs(store_dir)"
   ]
  },
  {
   "cell_type": "markdown",
   "metadata": {},
   "source": [
    "## Changing environment generation mode\n",
    "\"background\" mode is just changing the background color, digit color will stay white <br>\n",
    "\"full\" is changing both digit and background color <br>\n",
    "change the constant in \"MODE\""
   ]
  },
  {
   "cell_type": "code",
   "execution_count": 9,
   "metadata": {},
   "outputs": [],
   "source": [
    "def transform_image_with_env(env, loader):\n",
    "    images = torch.zeros((1,3,28,28))\n",
    "    y_true = []\n",
    "    for batch_idx, (imgs, labels) in tqdm(enumerate(loader)):\n",
    "        if len(digits_to_store) > 0:\n",
    "            mask = np.logical_or(labels == digits_to_store[0], labels == digits_to_store[1])\n",
    "            imgs = imgs[mask,:,:,:]\n",
    "            labels = labels[mask]\n",
    "        transformed_imgs = transform[MODE](imgs, labels,env)\n",
    "        images=torch.vstack((images,transformed_imgs))\n",
    "        y_true.extend(labels.detach().cpu().numpy())\n",
    "    images = images[1:,:,:,:]\n",
    "    y_true = torch.Tensor(y_true)\n",
    "    return images, y_true"
   ]
  },
  {
   "cell_type": "code",
   "execution_count": 3,
   "metadata": {},
   "outputs": [],
   "source": [
    "def generate_random_flip_map(digits=digits_to_store):\n",
    "    if len(digits) == 0:\n",
    "        digits = np.arange(10)\n",
    "    random_shuffle = np.copy(digits)\n",
    "    np.random.shuffle(random_shuffle)\n",
    "    random_mapping = {}\n",
    "    for idx, digit in enumerate(digits):\n",
    "        random_mapping[digit] = random_shuffle[idx]\n",
    "    return random_mapping"
   ]
  },
  {
   "cell_type": "code",
   "execution_count": 4,
   "metadata": {},
   "outputs": [],
   "source": [
    "def flip_digit_color(flip_mapping, env):\n",
    "    new_mapping = {}\n",
    "    for key in flip_mapping:\n",
    "        new_mapping[key] = env[flip_mapping[key]]\n",
    "        new_mapping[flip_mapping[key]] = env[key]\n",
    "    return new_mapping"
   ]
  },
  {
   "cell_type": "code",
   "execution_count": 5,
   "metadata": {},
   "outputs": [],
   "source": [
    "def show_random_images(images):\n",
    "    random_samples = np.random.choice(np.linspace(0, images.shape[0]-1, images.shape[0], dtype=int), 10)\n",
    "    random_samples = images[random_samples, :,:,:]\n",
    "    nrows = 3\n",
    "    fig, ax = plt.subplots(nrows, ncols=random_samples.shape[0]//nrows)\n",
    "    i=0\n",
    "    for row in ax:\n",
    "        for col in row:\n",
    "            image = random_samples[i,:,:,:]*255\n",
    "            col.imshow(image.permute(1,2,0).detach().cpu().numpy().astype(np.uint8))\n",
    "            i+=1\n",
    "    plt.setp(plt.gcf().get_axes(), xticks=[], yticks=[]);\n",
    "    plt.show()"
   ]
  },
  {
   "cell_type": "code",
   "execution_count": 11,
   "metadata": {},
   "outputs": [],
   "source": [
    "def save_images_and_get_metadata(images, labels, split, save_dir):\n",
    "    if not os.path.isdir(save_dir):\n",
    "        os.makedirs(save_dir)\n",
    "    image_id = 0\n",
    "    transform = T.ToPILImage()\n",
    "    metadata_df = {\"image_path\": [], \"label\": [], \"split\": []}\n",
    "    labels = labels.detach().cpu().numpy()\n",
    "    for img_idx in range(images.shape[0]):\n",
    "        img_tensor = images[img_idx, :, :, :]\n",
    "        img_tensor = torch.squeeze(img_tensor)\n",
    "        image_id += 1\n",
    "        img = transform(img_tensor)\n",
    "        image_path = os.path.join(save_dir, f\"img_{image_id}_{split}.png\")\n",
    "        img.save(image_path)\n",
    "        metadata_df[\"image_path\"].append(image_path)\n",
    "        metadata_df[\"label\"].append(int(labels[img_idx]))\n",
    "        metadata_df[\"split\"].append(split)\n",
    "    return metadata_df"
   ]
  },
  {
   "cell_type": "code",
   "execution_count": 7,
   "metadata": {},
   "outputs": [
    {
     "data": {
      "text/plain": [
       "{0: array([0.4627451 , 0.29803922, 0.61176471]),\n",
       " 1: array([0.70980392, 0.49411765, 0.42352941])}"
      ]
     },
     "execution_count": 7,
     "metadata": {},
     "output_type": "execute_result"
    }
   ],
   "source": [
    "env_1 = random_generator[MODE](digits_to_store)\n",
    "env_1"
   ]
  },
  {
   "cell_type": "code",
   "execution_count": 10,
   "metadata": {},
   "outputs": [
    {
     "name": "stderr",
     "output_type": "stream",
     "text": [
      "0it [00:00, ?it/s]/hdd2/dyah/anaconda3/envs/causal/lib/python3.7/site-packages/ipykernel_launcher.py:7: UserWarning: indexing with dtype torch.uint8 is now deprecated, please use a dtype torch.bool instead. (Triggered internally at  /pytorch/aten/src/ATen/native/IndexingUtils.h:25.)\n",
      "  import sys\n",
      "/hdd2/dyah/anaconda3/envs/causal/lib/python3.7/site-packages/ipykernel_launcher.py:8: UserWarning: indexing with dtype torch.uint8 is now deprecated, please use a dtype torch.bool instead. (Triggered internally at  /pytorch/aten/src/ATen/native/IndexingUtils.h:25.)\n",
      "  \n",
      "422it [03:13,  2.18it/s]\n"
     ]
    }
   ],
   "source": [
    "img_env_1_train, env_1_labels_train = transform_image_with_env(env_1, trainloader)"
   ]
  },
  {
   "cell_type": "code",
   "execution_count": 12,
   "metadata": {},
   "outputs": [
    {
     "data": {
      "image/png": "[encoded data removed]",
      "text/plain": [
       "<Figure size 640x480 with 9 Axes>"
      ]
     },
     "metadata": {},
     "output_type": "display_data"
    }
   ],
   "source": [
    "show_random_images(img_env_1_train)"
   ]
  },
  {
   "cell_type": "code",
   "execution_count": 13,
   "metadata": {},
   "outputs": [],
   "source": [
    "train_metadata = save_images_and_get_metadata(img_env_1_train, env_1_labels_train, 0, save_dir=os.path.join(store_dir, \"env_1\"))"
   ]
  },
  {
   "cell_type": "code",
   "execution_count": 14,
   "metadata": {},
   "outputs": [
    {
     "name": "stderr",
     "output_type": "stream",
     "text": [
      "0it [00:00, ?it/s]/hdd2/dyah/anaconda3/envs/causal/lib/python3.7/site-packages/ipykernel_launcher.py:7: UserWarning: indexing with dtype torch.uint8 is now deprecated, please use a dtype torch.bool instead. (Triggered internally at  /pytorch/aten/src/ATen/native/IndexingUtils.h:25.)\n",
      "  import sys\n",
      "/hdd2/dyah/anaconda3/envs/causal/lib/python3.7/site-packages/ipykernel_launcher.py:8: UserWarning: indexing with dtype torch.uint8 is now deprecated, please use a dtype torch.bool instead. (Triggered internally at  /pytorch/aten/src/ATen/native/IndexingUtils.h:25.)\n",
      "  \n",
      "79it [00:35,  2.24it/s]\n",
      "47it [00:20,  2.24it/s]\n"
     ]
    }
   ],
   "source": [
    "img_env_1_test, env_1_labels_test = transform_image_with_env(env_1, testloader)\n",
    "test_metadata = save_images_and_get_metadata(img_env_1_test, env_1_labels_test, 1, save_dir=os.path.join(store_dir, \"env_1\"))\n",
    "img_env_1_val, env_1_labels_val = transform_image_with_env(env_1, valloader)\n",
    "val_metadata = save_images_and_get_metadata(img_env_1_val, env_1_labels_val, 2, save_dir=os.path.join(store_dir, \"env_1\"))"
   ]
  },
  {
   "cell_type": "code",
   "execution_count": 15,
   "metadata": {},
   "outputs": [],
   "source": [
    "def merge_metadata(train_metadata, test_metadata, val_metadata):\n",
    "    image_path = [path for path in train_metadata['image_path']]\n",
    "    image_path.extend([path for path in test_metadata['image_path']])\n",
    "    image_path.extend([path for path in val_metadata['image_path']])\n",
    "    metadata_all = {'image_path': image_path}\n",
    "    \n",
    "    labels = [label for label in train_metadata['label']]\n",
    "    labels.extend([label for label in test_metadata['label']])\n",
    "    labels.extend([label for label in val_metadata['label']])\n",
    "    metadata_all['label'] = labels\n",
    "    \n",
    "    splits = [split for split in train_metadata['split']]\n",
    "    splits.extend([split for split in test_metadata['split']])\n",
    "    splits.extend([split for split in val_metadata['split']])\n",
    "    metadata_all['split'] = splits\n",
    "    return metadata_all"
   ]
  },
  {
   "cell_type": "code",
   "execution_count": 16,
   "metadata": {},
   "outputs": [],
   "source": [
    "def store_metadata(df, save_dir):\n",
    "    df = pd.DataFrame(df)\n",
    "    df.to_csv(os.path.join(save_dir,\"metadata.csv\"))"
   ]
  },
  {
   "cell_type": "code",
   "execution_count": 17,
   "metadata": {},
   "outputs": [],
   "source": [
    "metadata_all = merge_metadata(train_metadata, test_metadata, val_metadata)"
   ]
  },
  {
   "cell_type": "code",
   "execution_count": 18,
   "metadata": {},
   "outputs": [],
   "source": [
    "store_metadata(metadata_all, save_dir=os.path.join(store_dir, \"env_1\"))"
   ]
  },
  {
   "cell_type": "code",
   "execution_count": 19,
   "metadata": {},
   "outputs": [
    {
     "data": {
      "text/plain": [
       "{0: 1, 1: 0}"
      ]
     },
     "execution_count": 19,
     "metadata": {},
     "output_type": "execute_result"
    }
   ],
   "source": [
    "flip_map = generate_random_flip_map()\n",
    "flip_map"
   ]
  },
  {
   "cell_type": "code",
   "execution_count": 20,
   "metadata": {},
   "outputs": [
    {
     "data": {
      "text/plain": [
       "{0: array([0.70980392, 0.49411765, 0.42352941]),\n",
       " 1: array([0.4627451 , 0.29803922, 0.61176471])}"
      ]
     },
     "execution_count": 20,
     "metadata": {},
     "output_type": "execute_result"
    }
   ],
   "source": [
    "env_1_flip = flip_digit_color(flip_map, env_1)\n",
    "env_1_flip"
   ]
  },
  {
   "cell_type": "code",
   "execution_count": 21,
   "metadata": {},
   "outputs": [
    {
     "name": "stderr",
     "output_type": "stream",
     "text": [
      "0it [00:00, ?it/s]/hdd2/dyah/anaconda3/envs/causal/lib/python3.7/site-packages/ipykernel_launcher.py:7: UserWarning: indexing with dtype torch.uint8 is now deprecated, please use a dtype torch.bool instead. (Triggered internally at  /pytorch/aten/src/ATen/native/IndexingUtils.h:25.)\n",
      "  import sys\n",
      "/hdd2/dyah/anaconda3/envs/causal/lib/python3.7/site-packages/ipykernel_launcher.py:8: UserWarning: indexing with dtype torch.uint8 is now deprecated, please use a dtype torch.bool instead. (Triggered internally at  /pytorch/aten/src/ATen/native/IndexingUtils.h:25.)\n",
      "  \n",
      "422it [03:13,  2.18it/s]\n"
     ]
    },
    {
     "data": {
      "image/png": "[encoded data removed]",
      "text/plain": [
       "<Figure size 640x480 with 9 Axes>"
      ]
     },
     "metadata": {},
     "output_type": "display_data"
    }
   ],
   "source": [
    "img_env_1_train_flip, env_1_labels_train_flip = transform_image_with_env(env_1_flip, trainloader)\n",
    "show_random_images(img_env_1_train_flip)"
   ]
  },
  {
   "cell_type": "code",
   "execution_count": null,
   "metadata": {},
   "outputs": [
    {
     "name": "stderr",
     "output_type": "stream",
     "text": [
      "0it [00:00, ?it/s]/hdd2/dyah/anaconda3/envs/causal/lib/python3.7/site-packages/ipykernel_launcher.py:7: UserWarning: indexing with dtype torch.uint8 is now deprecated, please use a dtype torch.bool instead. (Triggered internally at  /pytorch/aten/src/ATen/native/IndexingUtils.h:25.)\n",
      "  import sys\n",
      "/hdd2/dyah/anaconda3/envs/causal/lib/python3.7/site-packages/ipykernel_launcher.py:8: UserWarning: indexing with dtype torch.uint8 is now deprecated, please use a dtype torch.bool instead. (Triggered internally at  /pytorch/aten/src/ATen/native/IndexingUtils.h:25.)\n",
      "  \n",
      "3it [00:01,  1.85it/s]"
     ]
    }
   ],
   "source": [
    "train_metadata = save_images_and_get_metadata(img_env_1_train_flip, env_1_labels_train_flip, 0, save_dir=os.path.join(store_dir, \"env_1_FLIP\"))\n",
    "\n",
    "img_env_1_test_flip, env_1_labels_test_flip = transform_image_with_env(env_1_flip, testloader)\n",
    "test_metadata = save_images_and_get_metadata(img_env_1_test_flip, env_1_labels_test_flip, 1, save_dir=os.path.join(store_dir, \"env_1_FLIP\"))\n",
    "\n",
    "img_env_1_val_flip, env_1_labels_val_flip = transform_image_with_env(env_1_flip, valloader)\n",
    "val_metadata = save_images_and_get_metadata(img_env_1_val_flip, env_1_labels_val_flip, 1, save_dir=os.path.join(store_dir, \"env_1_FLIP\"))"
   ]
  },
  {
   "cell_type": "code",
   "execution_count": null,
   "metadata": {},
   "outputs": [],
   "source": [
    "metadata_all = merge_metadata(train_metadata, test_metadata, val_metadata)\n",
    "store_metadata(metadata_all, save_dir=os.path.join(store_dir, \"env_1_FLIP\"))"
   ]
  },
  {
   "cell_type": "code",
   "execution_count": null,
   "metadata": {},
   "outputs": [],
   "source": []
  }
 ],
 "metadata": {
  "kernelspec": {
   "display_name": "causal",
   "language": "python",
   "name": "causal"
  },
  "language_info": {
   "codemirror_mode": {
    "name": "ipython",
    "version": 3
   },
   "file_extension": ".py",
   "mimetype": "text/x-python",
   "name": "python",
   "nbconvert_exporter": "python",
   "pygments_lexer": "ipython3",
   "version": "3.7.9"
  }
 },
 "nbformat": 4,
 "nbformat_minor": 2
}
